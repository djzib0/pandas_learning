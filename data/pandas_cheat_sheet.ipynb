{
 "cells": [
  {
   "cell_type": "markdown",
   "id": "3390f191",
   "metadata": {},
   "source": [
    "# Cheat sheet Pandas"
   ]
  },
  {
   "cell_type": "markdown",
   "id": "4264e072",
   "metadata": {},
   "source": [
    "Importowanie Pandas"
   ]
  },
  {
   "cell_type": "code",
   "execution_count": 1,
   "id": "5a89b7cd",
   "metadata": {},
   "outputs": [],
   "source": [
    "import pandas as pd"
   ]
  },
  {
   "cell_type": "markdown",
   "id": "074bf251",
   "metadata": {},
   "source": [
    "## DataFrame i Series"
   ]
  },
  {
   "cell_type": "markdown",
   "id": "8ac2ddbf",
   "metadata": {},
   "source": [
    "### Utworzenie DataFrame"
   ]
  },
  {
   "cell_type": "code",
   "execution_count": 9,
   "id": "4f73abeb",
   "metadata": {},
   "outputs": [
    {
     "name": "stdout",
     "output_type": "stream",
     "text": [
      "       kolumna_imie kolumna_nazwisko\n",
      "male          Piotr         Kowalski\n",
      "male           Adam             Słon\n",
      "female        Maria         Kowalska\n",
      "male         Michal            Micha\n"
     ]
    }
   ],
   "source": [
    "df = pd.DataFrame({'kolumna_imie': ['Piotr', 'Adam', 'Maria','Michal'],\n",
    "                   'kolumna_nazwisko': ['Kowalski', 'Słon', 'Kowalska', 'Micha']},\n",
    "                  index=['male', 'male', 'female', 'male']\n",
    "                 )\n",
    "print(df)"
   ]
  },
  {
   "cell_type": "markdown",
   "id": "b2376d70",
   "metadata": {},
   "source": [
    "#### lub"
   ]
  },
  {
   "cell_type": "code",
   "execution_count": 5,
   "id": "92cac18e",
   "metadata": {
    "scrolled": true
   },
   "outputs": [
    {
     "name": "stdout",
     "output_type": "stream",
     "text": [
      "  kolumna_name kolumna_surname\n",
      "0        Piotr        Kowalski\n",
      "1         Adam            Slon\n",
      "2        Maria        Kowalska\n",
      "3       Michał           Micha\n"
     ]
    }
   ],
   "source": [
    "df1 = pd.DataFrame(data=[\n",
    "    ['Piotr', 'Kowalski'],\n",
    "    ['Adam', 'Slon'],\n",
    "    ['Maria', 'Kowalska'],\n",
    "    ['Michał', 'Micha'],\n",
    "], columns=['kolumna_name', 'kolumna_surname']) # parametr columns opcjonalnie, bez niego utworzy kolumny od 0 do 1\n",
    "print(df1)"
   ]
  },
  {
   "cell_type": "markdown",
   "id": "ddd8d765",
   "metadata": {},
   "source": [
    "#### Wyświetlenie dwóch pierwszych wierszy."
   ]
  },
  {
   "cell_type": "code",
   "execution_count": 8,
   "id": "44911453",
   "metadata": {},
   "outputs": [
    {
     "name": "stdout",
     "output_type": "stream",
     "text": [
      "  kolumna_name kolumna_surname\n",
      "0        Piotr        Kowalski\n",
      "1         Adam            Slon\n",
      "2        Maria        Kowalska\n",
      "3       Michał           Micha\n"
     ]
    }
   ],
   "source": [
    "print(df1.head(2)) # domyślnie head() wyświetli 5 pierwszych wierszy"
   ]
  },
  {
   "cell_type": "markdown",
   "id": "bd6b3efc",
   "metadata": {},
   "source": [
    "#### Wyświetlenie nazw kolumn lub zakresu indeksów wierszy\n"
   ]
  },
  {
   "cell_type": "code",
   "execution_count": 11,
   "id": "31332aa1",
   "metadata": {},
   "outputs": [
    {
     "name": "stdout",
     "output_type": "stream",
     "text": [
      "Index(['kolumna_name', 'kolumna_surname'], dtype='object')\n",
      "RangeIndex(start=0, stop=4, step=1)\n"
     ]
    }
   ],
   "source": [
    "print(df1.columns)\n",
    "print(df1.index)"
   ]
  },
  {
   "cell_type": "markdown",
   "id": "b138999e",
   "metadata": {},
   "source": [
    "#### Konwersja do słownika"
   ]
  },
  {
   "cell_type": "code",
   "execution_count": 14,
   "id": "f52cd4fb",
   "metadata": {},
   "outputs": [
    {
     "name": "stdout",
     "output_type": "stream",
     "text": [
      "       kolumna_imie2 kolumna_nazwisko\n",
      "male          Michal            Mihal\n",
      "female         Maria         Kowalska\n"
     ]
    }
   ],
   "source": [
    "my_dict = {'kolumna_imie2': {'male': 'Michal', 'female': 'Maria'},\n",
    "           'kolumna_nazwisko': {'male': 'Mihal', 'female': 'Kowalska'}}\n",
    "df_from_dict = pd.DataFrame.from_dict(my_dict)\n",
    "print(df_from_dict)"
   ]
  },
  {
   "cell_type": "markdown",
   "id": "ae553185",
   "metadata": {},
   "source": [
    "#### Tworzenie niezależnej kopii DataFrame"
   ]
  },
  {
   "cell_type": "code",
   "execution_count": 15,
   "id": "44a98a2e",
   "metadata": {},
   "outputs": [
    {
     "name": "stdout",
     "output_type": "stream",
     "text": [
      "       kolumna_imie kolumna_nazwisko\n",
      "male          Maria         Kowalski\n",
      "male          Maria             Słon\n",
      "female        Maria         Kowalska\n",
      "male          Maria            Micha\n"
     ]
    }
   ],
   "source": [
    "df_second = df.copy()\n",
    "df_second['kolumna_imie'] = 'Maria'\n",
    "print(df_second)"
   ]
  },
  {
   "cell_type": "markdown",
   "id": "9b40aab0",
   "metadata": {},
   "source": [
    "### Utworzenie Series"
   ]
  },
  {
   "cell_type": "code",
   "execution_count": 16,
   "id": "e551e398",
   "metadata": {},
   "outputs": [],
   "source": [
    "series = pd.Series(data=['Piotr', 'Adam', 'Maria', 'Aga'])"
   ]
  },
  {
   "cell_type": "markdown",
   "id": "528db6e5",
   "metadata": {},
   "source": [
    "#### Sprawdzanie typu danych w Series"
   ]
  },
  {
   "cell_type": "code",
   "execution_count": 20,
   "id": "f2a492b5",
   "metadata": {},
   "outputs": [
    {
     "name": "stdout",
     "output_type": "stream",
     "text": [
      "type(series)\n",
      "<class 'pandas.core.series.Series'>\n",
      "series.dtypes\n",
      "object\n"
     ]
    }
   ],
   "source": [
    "print('type(series)')\n",
    "print(type(series))\n",
    "print('series.dtypes')\n",
    "print(series.dtypes)"
   ]
  },
  {
   "cell_type": "markdown",
   "id": "e3adff1b",
   "metadata": {},
   "source": [
    "#### Tworzenie Series z listy"
   ]
  },
  {
   "cell_type": "code",
   "execution_count": 23,
   "id": "8d39b8c0",
   "metadata": {},
   "outputs": [
    {
     "name": "stdout",
     "output_type": "stream",
     "text": [
      "0    Piotr\n",
      "1     Adam\n",
      "2    Maria\n",
      "3    Agata\n",
      "dtype: object\n"
     ]
    }
   ],
   "source": [
    "my_list = ['Piotr', 'Adam', 'Maria', 'Agata']\n",
    "series_from_my_list = pd.Series(my_list)\n",
    "print(series_from_my_list)"
   ]
  },
  {
   "cell_type": "markdown",
   "id": "0c8f8828",
   "metadata": {},
   "source": [
    "#### Zapis do listy"
   ]
  },
  {
   "cell_type": "code",
   "execution_count": 25,
   "id": "3aad2c11",
   "metadata": {},
   "outputs": [
    {
     "name": "stdout",
     "output_type": "stream",
     "text": [
      "['Piotr', 'Adam', 'Maria', 'Agata']\n"
     ]
    }
   ],
   "source": [
    "print(series_from_my_list.tolist())"
   ]
  },
  {
   "cell_type": "markdown",
   "id": "170debf4",
   "metadata": {},
   "source": [
    "#### Konwersja pd.Series do pd.DataFrame"
   ]
  },
  {
   "cell_type": "code",
   "execution_count": 30,
   "id": "59b077d6",
   "metadata": {},
   "outputs": [
    {
     "name": "stdout",
     "output_type": "stream",
     "text": [
      "       0\n",
      "0  Piotr\n",
      "1   Adam\n",
      "2  Maria\n",
      "3  Agata\n"
     ]
    }
   ],
   "source": [
    "df_from_series_2 = pd.DataFrame(series_from_my_list)\n",
    "print(df_from_series_2)"
   ]
  },
  {
   "cell_type": "code",
   "execution_count": null,
   "id": "1546b852",
   "metadata": {},
   "outputs": [],
   "source": []
  }
 ],
 "metadata": {
  "kernelspec": {
   "display_name": "Python 3 (ipykernel)",
   "language": "python",
   "name": "python3"
  },
  "language_info": {
   "codemirror_mode": {
    "name": "ipython",
    "version": 3
   },
   "file_extension": ".py",
   "mimetype": "text/x-python",
   "name": "python",
   "nbconvert_exporter": "python",
   "pygments_lexer": "ipython3",
   "version": "3.7.3"
  }
 },
 "nbformat": 4,
 "nbformat_minor": 5
}
