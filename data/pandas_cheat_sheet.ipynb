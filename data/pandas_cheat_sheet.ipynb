{
 "cells": [
  {
   "cell_type": "markdown",
   "id": "2a0b16c0",
   "metadata": {},
   "source": [
    "# Cheat sheet Pandas"
   ]
  },
  {
   "cell_type": "markdown",
   "id": "691c270e",
   "metadata": {},
   "source": [
    "Importowanie Pandas"
   ]
  },
  {
   "cell_type": "code",
   "execution_count": 1,
   "id": "4d59d0cf",
   "metadata": {},
   "outputs": [],
   "source": [
    "import pandas as pd"
   ]
  },
  {
   "cell_type": "markdown",
   "id": "95a0ea7d",
   "metadata": {},
   "source": [
    "## DataFrame i Series"
   ]
  },
  {
   "cell_type": "markdown",
   "id": "1cab53a4",
   "metadata": {},
   "source": [
    "### Utworzenie DataFrame"
   ]
  },
  {
   "cell_type": "code",
   "execution_count": 9,
   "id": "146b4ec0",
   "metadata": {},
   "outputs": [
    {
     "name": "stdout",
     "output_type": "stream",
     "text": [
      "       kolumna_imie kolumna_nazwisko\n",
      "male          Piotr         Kowalski\n",
      "male           Adam             Słon\n",
      "female        Maria         Kowalska\n",
      "male         Michal            Micha\n"
     ]
    }
   ],
   "source": [
    "df = pd.DataFrame({'kolumna_imie': ['Piotr', 'Adam', 'Maria','Michal'],\n",
    "                   'kolumna_nazwisko': ['Kowalski', 'Słon', 'Kowalska', 'Micha']},\n",
    "                  index=['male', 'male', 'female', 'male']\n",
    "                 )\n",
    "print(df)"
   ]
  },
  {
   "cell_type": "markdown",
   "id": "34dcae21",
   "metadata": {},
   "source": [
    "#### lub"
   ]
  },
  {
   "cell_type": "code",
   "execution_count": 5,
   "id": "fdb42174",
   "metadata": {
    "scrolled": true
   },
   "outputs": [
    {
     "name": "stdout",
     "output_type": "stream",
     "text": [
      "  kolumna_name kolumna_surname\n",
      "0        Piotr        Kowalski\n",
      "1         Adam            Slon\n",
      "2        Maria        Kowalska\n",
      "3       Michał           Micha\n"
     ]
    }
   ],
   "source": [
    "df1 = pd.DataFrame(data=[\n",
    "    ['Piotr', 'Kowalski'],\n",
    "    ['Adam', 'Slon'],\n",
    "    ['Maria', 'Kowalska'],\n",
    "    ['Michał', 'Micha'],\n",
    "], columns=['kolumna_name', 'kolumna_surname']) # parametr columns opcjonalnie, bez niego utworzy kolumny od 0 do 1\n",
    "print(df1)"
   ]
  },
  {
   "cell_type": "markdown",
   "id": "fc046ec0",
   "metadata": {},
   "source": [
    "#### Wyświetlenie dwóch pierwszych wierszy."
   ]
  },
  {
   "cell_type": "code",
   "execution_count": 8,
   "id": "0034a33e",
   "metadata": {},
   "outputs": [
    {
     "name": "stdout",
     "output_type": "stream",
     "text": [
      "  kolumna_name kolumna_surname\n",
      "0        Piotr        Kowalski\n",
      "1         Adam            Slon\n",
      "2        Maria        Kowalska\n",
      "3       Michał           Micha\n"
     ]
    }
   ],
   "source": [
    "print(df1.head(2)) # domyślnie head() wyświetli 5 pierwszych wierszy"
   ]
  },
  {
   "cell_type": "markdown",
   "id": "43c73188",
   "metadata": {},
   "source": [
    "#### Wyświetlenie nazw kolumn lub zakresu indeksów wierszy\n"
   ]
  },
  {
   "cell_type": "code",
   "execution_count": 11,
   "id": "717fcfd9",
   "metadata": {},
   "outputs": [
    {
     "name": "stdout",
     "output_type": "stream",
     "text": [
      "Index(['kolumna_name', 'kolumna_surname'], dtype='object')\n",
      "RangeIndex(start=0, stop=4, step=1)\n"
     ]
    }
   ],
   "source": [
    "print(df1.columns)\n",
    "print(df1.index)"
   ]
  },
  {
   "cell_type": "markdown",
   "id": "bb047379",
   "metadata": {},
   "source": [
    "#### Konwersja do słownika"
   ]
  },
  {
   "cell_type": "code",
   "execution_count": 14,
   "id": "e4246ae8",
   "metadata": {},
   "outputs": [
    {
     "name": "stdout",
     "output_type": "stream",
     "text": [
      "       kolumna_imie2 kolumna_nazwisko\n",
      "male          Michal            Mihal\n",
      "female         Maria         Kowalska\n"
     ]
    }
   ],
   "source": [
    "my_dict = {'kolumna_imie2': {'male': 'Michal', 'female': 'Maria'},\n",
    "           'kolumna_nazwisko': {'male': 'Mihal', 'female': 'Kowalska'}}\n",
    "df_from_dict = pd.DataFrame.from_dict(my_dict)\n",
    "print(df_from_dict)"
   ]
  },
  {
   "cell_type": "markdown",
   "id": "fce4efeb",
   "metadata": {},
   "source": [
    "#### Tworzenie niezależnej kopii DataFrame"
   ]
  },
  {
   "cell_type": "code",
   "execution_count": 15,
   "id": "5e069f1c",
   "metadata": {},
   "outputs": [
    {
     "name": "stdout",
     "output_type": "stream",
     "text": [
      "       kolumna_imie kolumna_nazwisko\n",
      "male          Maria         Kowalski\n",
      "male          Maria             Słon\n",
      "female        Maria         Kowalska\n",
      "male          Maria            Micha\n"
     ]
    }
   ],
   "source": [
    "df_second = df.copy()\n",
    "df_second['kolumna_imie'] = 'Maria'\n",
    "print(df_second)"
   ]
  },
  {
   "cell_type": "markdown",
   "id": "ba8da00c",
   "metadata": {},
   "source": [
    "### Utworzenie Series"
   ]
  },
  {
   "cell_type": "code",
   "execution_count": 16,
   "id": "17289493",
   "metadata": {},
   "outputs": [],
   "source": [
    "series = pd.Series(data=['Piotr', 'Adam', 'Maria', 'Aga'])"
   ]
  },
  {
   "cell_type": "markdown",
   "id": "bee1ffb3",
   "metadata": {},
   "source": [
    "#### Sprawdzanie typu danych w Series"
   ]
  },
  {
   "cell_type": "code",
   "execution_count": 20,
   "id": "11eae77f",
   "metadata": {},
   "outputs": [
    {
     "name": "stdout",
     "output_type": "stream",
     "text": [
      "type(series)\n",
      "<class 'pandas.core.series.Series'>\n",
      "series.dtypes\n",
      "object\n"
     ]
    }
   ],
   "source": [
    "print('type(series)')\n",
    "print(type(series))\n",
    "print('series.dtypes')\n",
    "print(series.dtypes)"
   ]
  },
  {
   "cell_type": "markdown",
   "id": "890df188",
   "metadata": {},
   "source": [
    "#### Tworzenie Series z listy"
   ]
  },
  {
   "cell_type": "code",
   "execution_count": 23,
   "id": "1f40ee35",
   "metadata": {},
   "outputs": [
    {
     "name": "stdout",
     "output_type": "stream",
     "text": [
      "0    Piotr\n",
      "1     Adam\n",
      "2    Maria\n",
      "3    Agata\n",
      "dtype: object\n"
     ]
    }
   ],
   "source": [
    "my_list = ['Piotr', 'Adam', 'Maria', 'Agata']\n",
    "series_from_my_list = pd.Series(my_list)\n",
    "print(series_from_my_list)"
   ]
  },
  {
   "cell_type": "markdown",
   "id": "f80f381e",
   "metadata": {},
   "source": [
    "#### Zapis do listy"
   ]
  },
  {
   "cell_type": "code",
   "execution_count": 25,
   "id": "15c7970a",
   "metadata": {},
   "outputs": [
    {
     "name": "stdout",
     "output_type": "stream",
     "text": [
      "['Piotr', 'Adam', 'Maria', 'Agata']\n"
     ]
    }
   ],
   "source": [
    "print(series_from_my_list.tolist())"
   ]
  },
  {
   "cell_type": "markdown",
   "id": "83ed57e8",
   "metadata": {},
   "source": [
    "#### Konwersja pd.Series do pd.DataFrame"
   ]
  },
  {
   "cell_type": "code",
   "execution_count": 30,
   "id": "a60ad220",
   "metadata": {},
   "outputs": [
    {
     "name": "stdout",
     "output_type": "stream",
     "text": [
      "       0\n",
      "0  Piotr\n",
      "1   Adam\n",
      "2  Maria\n",
      "3  Agata\n"
     ]
    }
   ],
   "source": [
    "df_from_series_2 = pd.DataFrame(series_from_my_list)\n",
    "print(df_from_series_2)"
   ]
  },
  {
   "cell_type": "markdown",
   "id": "80968165",
   "metadata": {},
   "source": [
    "## Ustawienia wyświetlania"
   ]
  },
  {
   "cell_type": "code",
   "execution_count": 31,
   "id": "826f33b0",
   "metadata": {},
   "outputs": [],
   "source": [
    "pd.set_option('display.max_columns', 50)\n",
    "pd.set_option('display.width', 1000)\n",
    "pd.set_option('display.max_colwidth', 100)"
   ]
  },
  {
   "cell_type": "markdown",
   "id": "3ea28dc2",
   "metadata": {},
   "source": [
    "### Wczytywanie danych"
   ]
  },
  {
   "cell_type": "code",
   "execution_count": 38,
   "id": "45d3d0b1",
   "metadata": {},
   "outputs": [
    {
     "name": "stdout",
     "output_type": "stream",
     "text": [
      "         name                      ingredients        diet  prep_time  cook_time flavor_profile   course        state region\n",
      "0  Balu shahi  Maida flour, yogurt, oil, sugar  vegetarian         45         25          sweet  dessert  West Bengal   East\n",
      "1      Boondi          Gram flour, ghee, sugar  vegetarian         80         30          sweet  dessert    Rajasthan   West\n"
     ]
    }
   ],
   "source": [
    "read_settings = {'name': str, 'prep_time': int}\n",
    "indian_food = pd.read_csv('C:\\\\Users\\\\piotr\\\\Desktop\\\\big_data_learning\\\\pandas_learning\\\\data\\\\indian_food.csv',\n",
    "                         dtype=read_settings)  # w przypadku konwersji na niedozwolony typ danych, pojawi się error\n",
    "print(indian_food.head(2))"
   ]
  },
  {
   "cell_type": "markdown",
   "id": "439633bc",
   "metadata": {},
   "source": [
    "#### Wczytywanie wybranych kolumn"
   ]
  },
  {
   "cell_type": "code",
   "execution_count": null,
   "id": "537de820",
   "metadata": {},
   "outputs": [],
   "source": [
    "indian_food = pd.read_csv('../data/indian_food.csv',\n",
    "                          usecols=['name', 'ingredients', 'diet', 'prep_time',\n",
    "                                   'cook_time']) # wczytywanie wybranych kolumn z pliku"
   ]
  },
  {
   "cell_type": "markdown",
   "id": "33e92505",
   "metadata": {},
   "source": [
    "#### Sprawdzenie \"kształtu\" DataFrame"
   ]
  },
  {
   "cell_type": "code",
   "execution_count": 39,
   "id": "9b4e2986",
   "metadata": {
    "scrolled": true
   },
   "outputs": [
    {
     "name": "stdout",
     "output_type": "stream",
     "text": [
      "(255, 9)\n"
     ]
    }
   ],
   "source": [
    "print(indian_food.shape)"
   ]
  },
  {
   "cell_type": "markdown",
   "id": "dbcd93f4",
   "metadata": {},
   "source": [
    "#### Dwie metody wczytywania danych z Excela"
   ]
  },
  {
   "cell_type": "code",
   "execution_count": null,
   "id": "4f6b19e3",
   "metadata": {},
   "outputs": [],
   "source": [
    "indian_food_excel = pd.read_excel('../data/data.xlsx',\n",
    "                                  sheet_name=0)\n",
    "# lub\n",
    "\n",
    "xlsx = pd.ExcelFile('../data/data.xlsx')\n",
    "df_xlsx = pd.read_excel(xlsx)\n",
    "print(df_xlsx)"
   ]
  },
  {
   "cell_type": "markdown",
   "id": "5ad2b322",
   "metadata": {},
   "source": [
    "#### Zapisywanie danych do pliku"
   ]
  },
  {
   "cell_type": "code",
   "execution_count": null,
   "id": "51f24720",
   "metadata": {},
   "outputs": [],
   "source": [
    "my_df = pd.read_csv('path')\n",
    "# lub\n",
    "my_df = df.to_csv('path')"
   ]
  },
  {
   "cell_type": "markdown",
   "id": "9f35bb4c",
   "metadata": {},
   "source": [
    "#### Zapisywanie wybranych kolumn do pliku"
   ]
  },
  {
   "cell_type": "code",
   "execution_count": null,
   "id": "77488320",
   "metadata": {},
   "outputs": [],
   "source": [
    "indian_food[['diet', 'ingredients']].to_excel('..data/indian_food_my_excel_list.xlsx',\n",
    "                                              sheet_name='wybrane jedzenie',    # nadaje nazwę arkuszowi\n",
    "                                              index=False)                      # nie zapisuje indeksów w pierwszej kolumnie"
   ]
  },
  {
   "cell_type": "markdown",
   "id": "27fc91cb",
   "metadata": {},
   "source": [
    "## Podstawowe działania matematyczne"
   ]
  },
  {
   "cell_type": "code",
   "execution_count": null,
   "id": "658398a8",
   "metadata": {},
   "outputs": [],
   "source": [
    "gov_county = pd.read_csv('../data/governors_county.csv')"
   ]
  },
  {
   "cell_type": "markdown",
   "id": "b8e344b9",
   "metadata": {},
   "source": [
    "#### Przypisywania wartośc z innej kolumny do nowej"
   ]
  },
  {
   "cell_type": "code",
   "execution_count": null,
   "id": "4fba7219",
   "metadata": {},
   "outputs": [],
   "source": [
    "gov_county['prev_vots'] = gov_county['current_votes'] # 'prev_votes' to nazwa nowej kolumny"
   ]
  },
  {
   "cell_type": "markdown",
   "id": "f04c2cae",
   "metadata": {},
   "source": [
    "#### Odejmowanie wybranej wartości"
   ]
  },
  {
   "cell_type": "code",
   "execution_count": 3,
   "id": "8cc328e4",
   "metadata": {},
   "outputs": [],
   "source": [
    "gov_county['prev_votes'] = gov_county['prev_votes'].sub(100)"
   ]
  },
  {
   "cell_type": "markdown",
   "id": "1691f130",
   "metadata": {},
   "source": [
    "#### Suma dwóch kolumn"
   ]
  },
  {
   "cell_type": "code",
   "execution_count": null,
   "id": "88558af7",
   "metadata": {},
   "outputs": [],
   "source": [
    "gov_county['prev_votes'] =  gov_county['prev_votes'] + gov_county['total_votes']"
   ]
  },
  {
   "cell_type": "markdown",
   "id": "5c256633",
   "metadata": {},
   "source": [
    "#### Mnożenie o wybraną wartość"
   ]
  },
  {
   "cell_type": "code",
   "execution_count": null,
   "id": "b2a541c4",
   "metadata": {},
   "outputs": [],
   "source": [
    "gov_county['prev_votes'] = gov_county['prev_votes'].mul(100)"
   ]
  },
  {
   "cell_type": "markdown",
   "id": "39afbb44",
   "metadata": {},
   "source": [
    "#### Dzielenie o wybraną wartość"
   ]
  },
  {
   "cell_type": "code",
   "execution_count": null,
   "id": "fa03ce0f",
   "metadata": {},
   "outputs": [],
   "source": [
    "gov_county['prev_votes'] = gov_county['prev_votes'].div(100)"
   ]
  },
  {
   "cell_type": "markdown",
   "id": "eb4c0f0e",
   "metadata": {},
   "source": [
    "#### Suma wszystkich wartości w jednej kolumnie"
   ]
  },
  {
   "cell_type": "code",
   "execution_count": null,
   "id": "4a9cee20",
   "metadata": {},
   "outputs": [],
   "source": [
    "print(sum(gov_county['total_votes']))"
   ]
  },
  {
   "cell_type": "markdown",
   "id": "54100fed",
   "metadata": {},
   "source": [
    "#### Średnia wszystkich wartości w jednej kolumnie"
   ]
  },
  {
   "cell_type": "code",
   "execution_count": null,
   "id": "68299999",
   "metadata": {},
   "outputs": [],
   "source": [
    "print(gov_county['total_votes'].mean())\n",
    "# lub\n",
    "print(gov_county['total_votes'].median())"
   ]
  },
  {
   "cell_type": "markdown",
   "id": "21d43115",
   "metadata": {},
   "source": [
    "## Wyznaczanie wybranej części ramki danych"
   ]
  },
  {
   "cell_type": "markdown",
   "id": "99d10298",
   "metadata": {},
   "source": [
    "#### Wyznaczanie tylko tych wierszy, dla których w kolumnie 'state' występuje wybrana nazwa"
   ]
  },
  {
   "cell_type": "code",
   "execution_count": null,
   "id": "f906ac96",
   "metadata": {},
   "outputs": [],
   "source": [
    "only_delaware_df = gov_county[gov_county['state'] == 'Delaware']"
   ]
  },
  {
   "cell_type": "markdown",
   "id": "3da64b21",
   "metadata": {},
   "source": [
    "#### Wyznaczanie wierszy, które spełniają wszystkie warunki"
   ]
  },
  {
   "cell_type": "code",
   "execution_count": null,
   "id": "64ad981a",
   "metadata": {},
   "outputs": [],
   "source": [
    "without_west_virginia_df = gov_county[(gov_county['current_votes'] > 1000)\n",
    "                                     & (gov_county['total_votes'] > 15000)\n",
    "                                     & (gov_county['state'] != 'West Virginia')]"
   ]
  },
  {
   "cell_type": "markdown",
   "id": "b28d66fe",
   "metadata": {},
   "source": [
    "#### Wyznaczanie wierszy, spełniających chociaż jeden warunek"
   ]
  },
  {
   "cell_type": "code",
   "execution_count": null,
   "id": "52b43f22",
   "metadata": {},
   "outputs": [],
   "source": [
    "at_least_one_condition_df = gov_county[(gov_county['state'] == 'Delaware')\n",
    "                                      | (gov_county['state'] == 'my_state')]"
   ]
  },
  {
   "cell_type": "markdown",
   "id": "1d33cf87",
   "metadata": {},
   "source": [
    "#### Wyznaczanie części ramki danych na podstawie elementów z listy"
   ]
  },
  {
   "cell_type": "code",
   "execution_count": null,
   "id": "7cf1f32b",
   "metadata": {},
   "outputs": [],
   "source": [
    "my_states = ['Delaware', 'Indiana']\n",
    "is_in_list_df = gov_county[gov_county['state'].isin(my_states)]\n",
    "# negacja\n",
    "is_not_in_list_df = gov_county[~gov_county['state'].isin(my_states)] # tylda!"
   ]
  },
  {
   "cell_type": "markdown",
   "id": "4aa0aad0",
   "metadata": {},
   "source": [
    "#### Wyznaczanie dla wartości, które zawierają część wybranej frazy"
   ]
  },
  {
   "cell_type": "code",
   "execution_count": null,
   "id": "e50c2197",
   "metadata": {},
   "outputs": [],
   "source": [
    "gov_county_regex_df = gov_county[gov_county['state'].str.contains('delaware',\n",
    "                                                                 regex=False,\n",
    "                                                                 case=False)] # ignoruje wielkość liter"
   ]
  },
  {
   "cell_type": "markdown",
   "id": "81f6f696",
   "metadata": {},
   "source": [
    "#### Wyznaczanie danych dla warunku gdzie dane zawierają szukaną frazę na początku lub na końcu"
   ]
  },
  {
   "cell_type": "code",
   "execution_count": null,
   "id": "c26495cd",
   "metadata": {},
   "outputs": [],
   "source": [
    "starswith_df = gov_county[gov_county['state'].str.startswith('De')]\n",
    "endswith_df = gov_county[gov_county['state'].str.endswith('aware')]"
   ]
  },
  {
   "cell_type": "markdown",
   "id": "975dd498",
   "metadata": {},
   "source": [
    "### iloc()\n",
    "iloc[index_number, column_number]\n",
    "\n",
    "#### Wyznaczanie pierwszego rzędu jako pd.Series (gdy jest jeden rząd), lub [[]] dla DataFrame"
   ]
  },
  {
   "cell_type": "code",
   "execution_count": null,
   "id": "a3d5f99c",
   "metadata": {},
   "outputs": [],
   "source": [
    "print(gov_county.iloc[0])   # wyświetli wiersz 0 w postaci pd.Series\n",
    "print(gov_county.iloc[[0]]) # wyświetli wiersz 0 w postaci pd.DataFrame"
   ]
  },
  {
   "cell_type": "markdown",
   "id": "1caee58c",
   "metadata": {},
   "source": [
    "#### Wyznaczanie zakresu ramki danych w osi Y (wg indeksu)"
   ]
  },
  {
   "cell_type": "code",
   "execution_count": null,
   "id": "0ca0c78f",
   "metadata": {},
   "outputs": [],
   "source": [
    "print(gov_county.iloc[0:5])\n",
    "print(gov_county.iloc[-3:0])   # wyświetli 3 ostatnie wiersze\n",
    "print(gov_county.iloc[3:, 4])  # wyświetli wszystkie wiersze od 3, dla kolumny 4\n",
    "col_idx = 4\n",
    "print(gov_county.iloc[4, col_idx]) # wyświetli zawartość \"komórki\" z 4 wiersza i kolumny 'col_idx'"
   ]
  },
  {
   "cell_type": "markdown",
   "id": "faef573b",
   "metadata": {},
   "source": [
    "### loc()\n",
    "loc[index_name, column_name]\n",
    "#### Wyświetlenie wszystkich wierszy z indeksem ['male']"
   ]
  },
  {
   "cell_type": "code",
   "execution_count": 6,
   "id": "f4d95d2a",
   "metadata": {},
   "outputs": [
    {
     "name": "stdout",
     "output_type": "stream",
     "text": [
      "     kolumna_imie kolumna_nazwisko\n",
      "male        Piotr         Kowalski\n",
      "male         Adam             Słon\n",
      "male       Michal            Micha\n"
     ]
    }
   ],
   "source": [
    "import pandas as pd\n",
    "df_male_female_index = pd.DataFrame({'kolumna_imie': ['Piotr', 'Adam', 'Maria', 'Michal'],\n",
    "                                     'kolumna_nazwisko': ['Kowalski', 'Słon', 'Kowalska', 'Micha']},\n",
    "                                    index=['male', 'male', 'female', 'male'])\n",
    "print(df_male_female_index.loc['male']) \n",
    "print('-----------')\n",
    "print(df_male_female_)"
   ]
  },
  {
   "cell_type": "markdown",
   "id": "e42c1c9f",
   "metadata": {},
   "source": [
    "#### Wyświetlenie wszystkich wierszy od indekus 'pawel' do ineksu 'maria'"
   ]
  },
  {
   "cell_type": "code",
   "execution_count": 8,
   "id": "bfe9a391",
   "metadata": {},
   "outputs": [
    {
     "name": "stdout",
     "output_type": "stream",
     "text": [
      "      kolumna_imie kolumna_nazwisko\n",
      "pawel        Piotr         Kowalski\n",
      "adam          Adam             Słon\n",
      "maria        Maria         Kowalska\n"
     ]
    }
   ],
   "source": [
    "df_names_index = pd.DataFrame({'kolumna_imie': ['Piotr', 'Adam', 'Maria', 'Michal'],\n",
    "                                     'kolumna_nazwisko': ['Kowalski', 'Słon', 'Kowalska', 'Micha']},\n",
    "                                    index=['pawel', 'adam', 'maria', 'ada'])\n",
    "print(df_names_index.loc['pawel': 'maria'])"
   ]
  },
  {
   "cell_type": "markdown",
   "id": "25e91130",
   "metadata": {},
   "source": [
    "#### Zakres indeksu od wyznaczonych wartości (nazw indeksu) dla danej kolumny"
   ]
  },
  {
   "cell_type": "code",
   "execution_count": 10,
   "id": "8233ea96",
   "metadata": {},
   "outputs": [],
   "source": [
    "print(df_names_index.loc['pawel': 'maria', 'kolumna_nazwisko'])\n",
    "# lub\n",
    "print(df_names_index.loc['pawel': 'maria'][['kolumna_nazwisko']])"
   ]
  },
  {
   "cell_type": "markdown",
   "id": "b1afff60",
   "metadata": {},
   "source": [
    "### Grupowanie i agregacja danych\n",
    "Grupowanie oraz agregacja - osobne obliczenia dla wybranych kolumn w wybranej grupie danych wewnątrz ramki danych"
   ]
  },
  {
   "cell_type": "code",
   "execution_count": null,
   "id": "e4b18900",
   "metadata": {},
   "outputs": [],
   "source": [
    "agg_gov_county_max_min_mean = gov_county.groupby('state').agg({'current_votes': 'max',\n",
    "                                                              'total_votes': 'min',\n",
    "                                                              'percent': 'mean'})\n",
    "# nadanie nazw kolumnom (opcjonalnie)\n",
    "agg_gov_county_max_min_mean.columns = ['max_current_votes', 'min_total_votes', 'mean_percent']"
   ]
  },
  {
   "cell_type": "markdown",
   "id": "902d9c0b",
   "metadata": {},
   "source": [
    "Alternatywny sposób, gdzie od razu nadajemy nazwy kolumn."
   ]
  },
  {
   "cell_type": "code",
   "execution_count": null,
   "id": "b336a9c5",
   "metadata": {},
   "outputs": [],
   "source": [
    "agg_gov_county_max_min_mean = gov_county.groupby('state').agg(max_current_votes=('current_votes', 'max'),\n",
    "                                                             min_total_votes=('total_votes', 'min'),\n",
    "                                                             mean_percent=('percent', 'mean'))"
   ]
  },
  {
   "cell_type": "markdown",
   "id": "3c9bd2de",
   "metadata": {},
   "source": []
  }
 ],
 "metadata": {
  "kernelspec": {
   "display_name": "Python 3 (ipykernel)",
   "language": "python",
   "name": "python3"
  },
  "language_info": {
   "codemirror_mode": {
    "name": "ipython",
    "version": 3
   },
   "file_extension": ".py",
   "mimetype": "text/x-python",
   "name": "python",
   "nbconvert_exporter": "python",
   "pygments_lexer": "ipython3",
   "version": "3.7.3"
  }
 },
 "nbformat": 4,
 "nbformat_minor": 5
}
