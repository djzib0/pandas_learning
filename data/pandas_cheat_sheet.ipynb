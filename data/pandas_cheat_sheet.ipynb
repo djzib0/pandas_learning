{
 "cells": [
  {
   "cell_type": "markdown",
   "id": "2a0b16c0",
   "metadata": {},
   "source": [
    "# Cheat sheet Pandas"
   ]
  },
  {
   "cell_type": "markdown",
   "id": "691c270e",
   "metadata": {},
   "source": [
    "Importowanie Pandas"
   ]
  },
  {
   "cell_type": "code",
   "execution_count": 1,
   "id": "4d59d0cf",
   "metadata": {},
   "outputs": [],
   "source": [
    "import pandas as pd"
   ]
  },
  {
   "cell_type": "markdown",
   "id": "95a0ea7d",
   "metadata": {},
   "source": [
    "## DataFrame i Series"
   ]
  },
  {
   "cell_type": "markdown",
   "id": "1cab53a4",
   "metadata": {},
   "source": [
    "### Utworzenie DataFrame"
   ]
  },
  {
   "cell_type": "code",
   "execution_count": 9,
   "id": "146b4ec0",
   "metadata": {},
   "outputs": [
    {
     "name": "stdout",
     "output_type": "stream",
     "text": [
      "       kolumna_imie kolumna_nazwisko\n",
      "male          Piotr         Kowalski\n",
      "male           Adam             Słon\n",
      "female        Maria         Kowalska\n",
      "male         Michal            Micha\n"
     ]
    }
   ],
   "source": [
    "df = pd.DataFrame({'kolumna_imie': ['Piotr', 'Adam', 'Maria','Michal'],\n",
    "                   'kolumna_nazwisko': ['Kowalski', 'Słon', 'Kowalska', 'Micha']},\n",
    "                  index=['male', 'male', 'female', 'male']\n",
    "                 )\n",
    "print(df)"
   ]
  },
  {
   "cell_type": "markdown",
   "id": "34dcae21",
   "metadata": {},
   "source": [
    "#### lub"
   ]
  },
  {
   "cell_type": "code",
   "execution_count": 5,
   "id": "fdb42174",
   "metadata": {
    "scrolled": true
   },
   "outputs": [
    {
     "name": "stdout",
     "output_type": "stream",
     "text": [
      "  kolumna_name kolumna_surname\n",
      "0        Piotr        Kowalski\n",
      "1         Adam            Slon\n",
      "2        Maria        Kowalska\n",
      "3       Michał           Micha\n"
     ]
    }
   ],
   "source": [
    "df1 = pd.DataFrame(data=[\n",
    "    ['Piotr', 'Kowalski'],\n",
    "    ['Adam', 'Slon'],\n",
    "    ['Maria', 'Kowalska'],\n",
    "    ['Michał', 'Micha'],\n",
    "], columns=['kolumna_name', 'kolumna_surname']) # parametr columns opcjonalnie, bez niego utworzy kolumny od 0 do 1\n",
    "print(df1)"
   ]
  },
  {
   "cell_type": "markdown",
   "id": "fc046ec0",
   "metadata": {},
   "source": [
    "#### Wyświetlenie dwóch pierwszych wierszy."
   ]
  },
  {
   "cell_type": "code",
   "execution_count": 8,
   "id": "0034a33e",
   "metadata": {},
   "outputs": [
    {
     "name": "stdout",
     "output_type": "stream",
     "text": [
      "  kolumna_name kolumna_surname\n",
      "0        Piotr        Kowalski\n",
      "1         Adam            Slon\n",
      "2        Maria        Kowalska\n",
      "3       Michał           Micha\n"
     ]
    }
   ],
   "source": [
    "print(df1.head(2)) # domyślnie head() wyświetli 5 pierwszych wierszy"
   ]
  },
  {
   "cell_type": "markdown",
   "id": "43c73188",
   "metadata": {},
   "source": [
    "#### Wyświetlenie nazw kolumn lub zakresu indeksów wierszy\n"
   ]
  },
  {
   "cell_type": "code",
   "execution_count": 11,
   "id": "717fcfd9",
   "metadata": {},
   "outputs": [
    {
     "name": "stdout",
     "output_type": "stream",
     "text": [
      "Index(['kolumna_name', 'kolumna_surname'], dtype='object')\n",
      "RangeIndex(start=0, stop=4, step=1)\n"
     ]
    }
   ],
   "source": [
    "print(df1.columns)\n",
    "print(df1.index)"
   ]
  },
  {
   "cell_type": "markdown",
   "id": "bb047379",
   "metadata": {},
   "source": [
    "#### Konwersja do słownika"
   ]
  },
  {
   "cell_type": "code",
   "execution_count": 14,
   "id": "e4246ae8",
   "metadata": {},
   "outputs": [
    {
     "name": "stdout",
     "output_type": "stream",
     "text": [
      "       kolumna_imie2 kolumna_nazwisko\n",
      "male          Michal            Mihal\n",
      "female         Maria         Kowalska\n"
     ]
    }
   ],
   "source": [
    "my_dict = {'kolumna_imie2': {'male': 'Michal', 'female': 'Maria'},\n",
    "           'kolumna_nazwisko': {'male': 'Mihal', 'female': 'Kowalska'}}\n",
    "df_from_dict = pd.DataFrame.from_dict(my_dict)\n",
    "print(df_from_dict)"
   ]
  },
  {
   "cell_type": "markdown",
   "id": "fce4efeb",
   "metadata": {},
   "source": [
    "#### Tworzenie niezależnej kopii DataFrame"
   ]
  },
  {
   "cell_type": "code",
   "execution_count": 15,
   "id": "5e069f1c",
   "metadata": {},
   "outputs": [
    {
     "name": "stdout",
     "output_type": "stream",
     "text": [
      "       kolumna_imie kolumna_nazwisko\n",
      "male          Maria         Kowalski\n",
      "male          Maria             Słon\n",
      "female        Maria         Kowalska\n",
      "male          Maria            Micha\n"
     ]
    }
   ],
   "source": [
    "df_second = df.copy()\n",
    "df_second['kolumna_imie'] = 'Maria'\n",
    "print(df_second)"
   ]
  },
  {
   "cell_type": "markdown",
   "id": "ba8da00c",
   "metadata": {},
   "source": [
    "### Utworzenie Series"
   ]
  },
  {
   "cell_type": "code",
   "execution_count": 16,
   "id": "17289493",
   "metadata": {},
   "outputs": [],
   "source": [
    "series = pd.Series(data=['Piotr', 'Adam', 'Maria', 'Aga'])"
   ]
  },
  {
   "cell_type": "markdown",
   "id": "bee1ffb3",
   "metadata": {},
   "source": [
    "#### Sprawdzanie typu danych w Series"
   ]
  },
  {
   "cell_type": "code",
   "execution_count": 20,
   "id": "11eae77f",
   "metadata": {},
   "outputs": [
    {
     "name": "stdout",
     "output_type": "stream",
     "text": [
      "type(series)\n",
      "<class 'pandas.core.series.Series'>\n",
      "series.dtypes\n",
      "object\n"
     ]
    }
   ],
   "source": [
    "print('type(series)')\n",
    "print(type(series))\n",
    "print('series.dtypes')\n",
    "print(series.dtypes)"
   ]
  },
  {
   "cell_type": "markdown",
   "id": "890df188",
   "metadata": {},
   "source": [
    "#### Tworzenie Series z listy"
   ]
  },
  {
   "cell_type": "code",
   "execution_count": 23,
   "id": "1f40ee35",
   "metadata": {},
   "outputs": [
    {
     "name": "stdout",
     "output_type": "stream",
     "text": [
      "0    Piotr\n",
      "1     Adam\n",
      "2    Maria\n",
      "3    Agata\n",
      "dtype: object\n"
     ]
    }
   ],
   "source": [
    "my_list = ['Piotr', 'Adam', 'Maria', 'Agata']\n",
    "series_from_my_list = pd.Series(my_list)\n",
    "print(series_from_my_list)"
   ]
  },
  {
   "cell_type": "markdown",
   "id": "f80f381e",
   "metadata": {},
   "source": [
    "#### Zapis do listy"
   ]
  },
  {
   "cell_type": "code",
   "execution_count": 25,
   "id": "15c7970a",
   "metadata": {},
   "outputs": [
    {
     "name": "stdout",
     "output_type": "stream",
     "text": [
      "['Piotr', 'Adam', 'Maria', 'Agata']\n"
     ]
    }
   ],
   "source": [
    "print(series_from_my_list.tolist())"
   ]
  },
  {
   "cell_type": "markdown",
   "id": "83ed57e8",
   "metadata": {},
   "source": [
    "#### Konwersja pd.Series do pd.DataFrame"
   ]
  },
  {
   "cell_type": "code",
   "execution_count": 30,
   "id": "a60ad220",
   "metadata": {},
   "outputs": [
    {
     "name": "stdout",
     "output_type": "stream",
     "text": [
      "       0\n",
      "0  Piotr\n",
      "1   Adam\n",
      "2  Maria\n",
      "3  Agata\n"
     ]
    }
   ],
   "source": [
    "df_from_series_2 = pd.DataFrame(series_from_my_list)\n",
    "print(df_from_series_2)"
   ]
  },
  {
   "cell_type": "markdown",
   "id": "80968165",
   "metadata": {},
   "source": [
    "## Ustawienia wyświetlania"
   ]
  },
  {
   "cell_type": "code",
   "execution_count": 31,
   "id": "826f33b0",
   "metadata": {},
   "outputs": [],
   "source": [
    "pd.set_option('display.max_columns', 50)\n",
    "pd.set_option('display.width', 1000)\n",
    "pd.set_option('display.max_colwidth', 100)"
   ]
  },
  {
   "cell_type": "markdown",
   "id": "3ea28dc2",
   "metadata": {},
   "source": [
    "### Wczytywanie danych"
   ]
  },
  {
   "cell_type": "code",
   "execution_count": 38,
   "id": "45d3d0b1",
   "metadata": {},
   "outputs": [
    {
     "name": "stdout",
     "output_type": "stream",
     "text": [
      "         name                      ingredients        diet  prep_time  cook_time flavor_profile   course        state region\n",
      "0  Balu shahi  Maida flour, yogurt, oil, sugar  vegetarian         45         25          sweet  dessert  West Bengal   East\n",
      "1      Boondi          Gram flour, ghee, sugar  vegetarian         80         30          sweet  dessert    Rajasthan   West\n"
     ]
    }
   ],
   "source": [
    "read_settings = {'name': str, 'prep_time': int}\n",
    "indian_food = pd.read_csv('C:\\\\Users\\\\piotr\\\\Desktop\\\\big_data_learning\\\\pandas_learning\\\\data\\\\indian_food.csv',\n",
    "                         dtype=read_settings)  # w przypadku konwersji na niedozwolony typ danych, pojawi się error\n",
    "print(indian_food.head(2))"
   ]
  },
  {
   "cell_type": "markdown",
   "id": "439633bc",
   "metadata": {},
   "source": [
    "#### Wczytywanie wybranych kolumn"
   ]
  },
  {
   "cell_type": "code",
   "execution_count": null,
   "id": "537de820",
   "metadata": {},
   "outputs": [],
   "source": [
    "indian_food = pd.read_csv('../data/indian_food.csv',\n",
    "                          usecols=['name', 'ingredients', 'diet', 'prep_time',\n",
    "                                   'cook_time']) # wczytywanie wybranych kolumn z pliku"
   ]
  },
  {
   "cell_type": "markdown",
   "id": "33e92505",
   "metadata": {},
   "source": [
    "#### Sprawdzenie \"kształtu\" DataFrame"
   ]
  },
  {
   "cell_type": "code",
   "execution_count": 39,
   "id": "9b4e2986",
   "metadata": {
    "scrolled": true
   },
   "outputs": [
    {
     "name": "stdout",
     "output_type": "stream",
     "text": [
      "(255, 9)\n"
     ]
    }
   ],
   "source": [
    "print(indian_food.shape)"
   ]
  },
  {
   "cell_type": "markdown",
   "id": "dbcd93f4",
   "metadata": {},
   "source": [
    "#### Dwie metody wczytywania danych z Excela"
   ]
  },
  {
   "cell_type": "code",
   "execution_count": null,
   "id": "4f6b19e3",
   "metadata": {},
   "outputs": [],
   "source": [
    "indian_food_excel = pd.read_excel('../data/data.xlsx',\n",
    "                                  sheet_name=0)\n",
    "# lub\n",
    "\n",
    "xlsx = pd.ExcelFile('../data/data.xlsx')\n",
    "df_xlsx = pd.read_excel(xlsx)\n",
    "print(df_xlsx)"
   ]
  },
  {
   "cell_type": "markdown",
   "id": "5ad2b322",
   "metadata": {},
   "source": [
    "#### Zapisywanie danych do pliku"
   ]
  },
  {
   "cell_type": "code",
   "execution_count": null,
   "id": "51f24720",
   "metadata": {},
   "outputs": [],
   "source": [
    "my_df = pd.read_csv('path')\n",
    "# lub\n",
    "my_df = df.to_csv('path')"
   ]
  },
  {
   "cell_type": "markdown",
   "id": "9f35bb4c",
   "metadata": {},
   "source": [
    "#### Zapisywanie wybranych kolumn do pliku"
   ]
  },
  {
   "cell_type": "code",
   "execution_count": null,
   "id": "77488320",
   "metadata": {},
   "outputs": [],
   "source": [
    "indian_food[['diet', 'ingredients']].to_excel('..data/indian_food_my_excel_list.xlsx',\n",
    "                                              sheet_name='wybrane jedzenie',    # nadaje nazwę arkuszowi\n",
    "                                              index=False)                      # nie zapisuje indeksów w pierwszej kolumnie"
   ]
  },
  {
   "cell_type": "markdown",
   "id": "27fc91cb",
   "metadata": {},
   "source": [
    "## Podstawowe działania matematyczne"
   ]
  },
  {
   "cell_type": "code",
   "execution_count": null,
   "id": "658398a8",
   "metadata": {},
   "outputs": [],
   "source": [
    "gov_county = pd.read_csv('../data/governors_county.csv')"
   ]
  },
  {
   "cell_type": "markdown",
   "id": "b8e344b9",
   "metadata": {},
   "source": [
    "#### Przypisywania wartośc z innej kolumny do nowej"
   ]
  },
  {
   "cell_type": "code",
   "execution_count": null,
   "id": "4fba7219",
   "metadata": {},
   "outputs": [],
   "source": [
    "gov_county['prev_vots'] = gov_county['current_votes'] # 'prev_votes' to nazwa nowej kolumny"
   ]
  },
  {
   "cell_type": "markdown",
   "id": "f04c2cae",
   "metadata": {},
   "source": [
    "#### Odejmowanie wybranej wartości"
   ]
  },
  {
   "cell_type": "code",
   "execution_count": 3,
   "id": "8cc328e4",
   "metadata": {},
   "outputs": [],
   "source": [
    "gov_county['prev_votes'] = gov_county['prev_votes'].sub(100)"
   ]
  },
  {
   "cell_type": "markdown",
   "id": "1691f130",
   "metadata": {},
   "source": [
    "#### Suma dwóch kolumn"
   ]
  },
  {
   "cell_type": "code",
   "execution_count": null,
   "id": "88558af7",
   "metadata": {},
   "outputs": [],
   "source": [
    "gov_county['prev_votes'] =  gov_county['prev_votes'] + gov_county['total_votes']"
   ]
  },
  {
   "cell_type": "markdown",
   "id": "5c256633",
   "metadata": {},
   "source": [
    "#### Mnożenie o wybraną wartość"
   ]
  },
  {
   "cell_type": "code",
   "execution_count": null,
   "id": "b2a541c4",
   "metadata": {},
   "outputs": [],
   "source": [
    "gov_county['prev_votes'] = gov_county['prev_votes'].mul(100)"
   ]
  },
  {
   "cell_type": "markdown",
   "id": "39afbb44",
   "metadata": {},
   "source": [
    "#### Dzielenie o wybraną wartość"
   ]
  },
  {
   "cell_type": "code",
   "execution_count": null,
   "id": "fa03ce0f",
   "metadata": {},
   "outputs": [],
   "source": [
    "gov_county['prev_votes'] = gov_county['prev_votes'].div(100)"
   ]
  },
  {
   "cell_type": "markdown",
   "id": "eb4c0f0e",
   "metadata": {},
   "source": [
    "#### Suma wszystkich wartości w jednej kolumnie"
   ]
  },
  {
   "cell_type": "code",
   "execution_count": null,
   "id": "4a9cee20",
   "metadata": {},
   "outputs": [],
   "source": [
    "print(sum(gov_county['total_votes']))"
   ]
  },
  {
   "cell_type": "markdown",
   "id": "54100fed",
   "metadata": {},
   "source": [
    "#### Średnia wszystkich wartości w jednej kolumnie"
   ]
  },
  {
   "cell_type": "code",
   "execution_count": null,
   "id": "68299999",
   "metadata": {},
   "outputs": [],
   "source": [
    "print(gov_county['total_votes'].mean())\n",
    "# lub\n",
    "print(gov_county['total_votes'].median())"
   ]
  },
  {
   "cell_type": "markdown",
   "id": "21d43115",
   "metadata": {},
   "source": []
  }
 ],
 "metadata": {
  "kernelspec": {
   "display_name": "Python 3 (ipykernel)",
   "language": "python",
   "name": "python3"
  },
  "language_info": {
   "codemirror_mode": {
    "name": "ipython",
    "version": 3
   },
   "file_extension": ".py",
   "mimetype": "text/x-python",
   "name": "python",
   "nbconvert_exporter": "python",
   "pygments_lexer": "ipython3",
   "version": "3.7.3"
  }
 },
 "nbformat": 4,
 "nbformat_minor": 5
}
